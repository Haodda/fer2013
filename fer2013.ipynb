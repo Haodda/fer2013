{
 "cells": [
  {
   "cell_type": "code",
   "execution_count": 1,
   "metadata": {},
   "outputs": [],
   "source": [
    "import pandas as pd\n",
    "import numpy as np\n",
    "import matplotlib.pyplot as plt"
   ]
  },
  {
   "cell_type": "code",
   "execution_count": 2,
   "metadata": {},
   "outputs": [],
   "source": [
    "#1.read data\n",
    "path = \"D:/python/contest/picture/fer2013/\"\n",
    "file = \"fer2013.csv\"\n",
    "data = pd.read_csv(path+file)\n",
    "data['pixels'] = data['pixels'].apply(lambda x: np.array([int(pixel) for pixel in x.split(' ')]))"
   ]
  },
  {
   "cell_type": "code",
   "execution_count": 8,
   "metadata": {},
   "outputs": [
    {
     "name": "stdout",
     "output_type": "stream",
     "text": [
      "训练集大小 :28709\n",
      "public大小 :3589\n",
      "private大小:3589\n"
     ]
    }
   ],
   "source": [
    "#2.split data into sets\n",
    "train_set   = data.loc[data['Usage'] == 'Training',['emotion','pixels']]\n",
    "public_set  = data.loc[data['Usage'] == 'PublicTest',['emotion','pixels']]\n",
    "private_set = data.loc[data['Usage'] == 'PrivateTest',['emotion','pixels']]\n",
    "\n",
    "print(f\"训练集大小 :{train_set.shape[0]}\")\n",
    "print(f\"public大小 :{public_set.shape[0]}\")\n",
    "print(f\"private大小:{private_set.shape[0]}\")"
   ]
  },
  {
   "cell_type": "code",
   "execution_count": 5,
   "metadata": {},
   "outputs": [],
   "source": [
    "def get_sample(df,number):\n",
    "    x = df.loc[number,'pixels']\n",
    "    y = df.loc[number,'emotion']\n",
    "    x = x.reshape(48,48)\n",
    "    return x,y"
   ]
  },
  {
   "cell_type": "code",
   "execution_count": 9,
   "metadata": {},
   "outputs": [
    {
     "data": {
      "text/plain": [
       "<matplotlib.image.AxesImage at 0x1873afdcd68>"
      ]
     },
     "execution_count": 9,
     "metadata": {},
     "output_type": "execute_result"
    },
    {
     "data": {
      "image/png": "[encoded data removed]",
      "text/plain": [
       "<matplotlib.figure.Figure at 0x1873b07cef0>"
      ]
     },
     "metadata": {
      "needs_background": "light"
     },
     "output_type": "display_data"
    }
   ],
   "source": [
    "#3.get sample and plot,each image is an 48*48 array\n",
    "image,label = get_sample(train_set,1)\n",
    "plt.imshow(image)"
   ]
  },
  {
   "cell_type": "code",
   "execution_count": null,
   "metadata": {},
   "outputs": [],
   "source": []
  }
 ],
 "metadata": {
  "kernelspec": {
   "display_name": "Python 3",
   "language": "python",
   "name": "python3"
  },
  "language_info": {
   "codemirror_mode": {
    "name": "ipython",
    "version": 3
   },
   "file_extension": ".py",
   "mimetype": "text/x-python",
   "name": "python",
   "nbconvert_exporter": "python",
   "pygments_lexer": "ipython3",
   "version": "3.6.4"
  }
 },
 "nbformat": 4,
 "nbformat_minor": 2
}
